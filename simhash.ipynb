{
 "cells": [
  {
   "cell_type": "markdown",
   "metadata": {},
   "source": [
    "### Мусин Камиль\n",
    "## Домашнее Задание 2"
   ]
  },
  {
   "cell_type": "markdown",
   "metadata": {},
   "source": [
    "Требуется библиотека simhash\n",
    "Файл script-hw2.py код из данного нотебука\n",
    "simhash_count.py - подсчет simhash для статей\n",
    "\n",
    "SimHash считается по триграммам текста, по методу прибавления +/-1"
   ]
  },
  {
   "cell_type": "code",
   "execution_count": 1,
   "metadata": {
    "collapsed": true
   },
   "outputs": [],
   "source": [
    "%matplotlib inline\n",
    "\n",
    "import os\n",
    "import matplotlib.pyplot as plt\n",
    "import sys\n",
    "from collections import deque"
   ]
  },
  {
   "cell_type": "code",
   "execution_count": 2,
   "metadata": {
    "collapsed": true
   },
   "outputs": [],
   "source": [
    "class HTMLPage:\n",
    "    def __init__(self, url):\n",
    "        self.edges_out = set()\n",
    "        self.edges_in = set()\n",
    "        self.url = url\n",
    "        self.dist = -1\n",
    "        self.pagerank = 0\n",
    "\n",
    "class WebGraph:\n",
    "    def __init__(self):\n",
    "        self.pages = []\n",
    "\n",
    "    def read(self, urlsfilename=\"urls_pp.txt\", graphfilename=\"graph_pp.txt\"):\n",
    "        with open(urlsfilename) as urlsfile:\n",
    "            with open(graphfilename) as graphfile:\n",
    "                for line in urlsfile:\n",
    "                    edges = [int(x) for x in graphfile.readline().rstrip().split()[1:]]\n",
    "                    index, url = line.split()\n",
    "                    index = int(index)\n",
    "                    self.add_page(url, edges)\n",
    "                    if index % 100 == 0:\n",
    "                        sys.stdout.write(\"\\r{0} pages read\".format(index))\n",
    "        sys.stdout.write(\"\\n\")\n",
    "\n",
    "    def read_ranks(self, ranksfilename=\"ranks.txt\"):\n",
    "        with open(ranksfilename) as ranksfile:\n",
    "            for line in ranksfile:\n",
    "                index, rank = line.split('\\t', 1)\n",
    "                index = int(index)\n",
    "                rank = float(rank)\n",
    "                self.pages[index].pagerank = rank\n",
    "\n",
    "                \n",
    "    def read_hashes(self, filename=\"hashes.txt\"):\n",
    "        with open(filename) as hashfile:\n",
    "            for line in hashfile:\n",
    "                index, h = line.split('\\t', 1)\n",
    "                index = int(index)\n",
    "                h = int(h)\n",
    "                self.pages[index].simhash = h\n",
    "    \n",
    "    def add_page(self, url, edges):\n",
    "        self.pages.append(HTMLPage(url))\n",
    "        self.pages[-1].edges_out = set(edges)\n",
    "        \n",
    "    def count_in_edges(self):\n",
    "        for index, page in enumerate(self.pages):\n",
    "            for edge in page.edges_out:\n",
    "                self.pages[edge].edges_in.add(index)\n",
    "                \n",
    "    def calculate_distances(self):\n",
    "        q = deque([0])\n",
    "        self.pages[0].dist = 0\n",
    "        while len(q) != 0:\n",
    "            vertex = q.popleft()\n",
    "            for edge in self.pages[vertex].edges_out:\n",
    "                if self.pages[edge].dist == -1:\n",
    "                    self.pages[edge].dist = self.pages[vertex].dist + 1\n",
    "                    q.append(edge)\n",
    "\n",
    "    def write_urls(self, filename=\"urls_pp.txt\"):\n",
    "        with open(filename, \"w\", encoding=\"utf-8\") as f:\n",
    "            for i in range(len(self.pages)):\n",
    "                f.write(\"{0}\\t{1}\\n\".format(i, self.pages[i].url))\n",
    "\n",
    "    def write_graph(self, filename=\"graph_pp.txt\"):\n",
    "        with open(filename, \"w\", encoding=\"utf-8\") as f:\n",
    "            for i in range(len(self.pages)):\n",
    "                f.write(\"{0}\\t{1}\\n\".format(i, \" \".join(str(x) for x in self.pages[i].edges_out)))\n",
    "\n",
    "    def write_ranks(self, filename=\"ranks.txt\"):\n",
    "        with open(filename, \"w\", encoding=\"utf-8\") as f:\n",
    "            for i in range(len(self.pages)):\n",
    "                f.write(\"{0}\\t{1}\\n\".format(i, self.pages[i].pagerank))\n",
    "                \n",
    "    def write_hashes(self, filename=\"hashes.txt\"):\n",
    "        with open(filename, \"w\", encoding=\"utf-8\") as f:\n",
    "            for i in range(len(self.pages)):\n",
    "                f.write(\"{0}\\t{1}\\n\".format(i, self.pages[i].simhash))"
   ]
  },
  {
   "cell_type": "code",
   "execution_count": 3,
   "metadata": {
    "collapsed": false
   },
   "outputs": [
    {
     "name": "stdout",
     "output_type": "stream",
     "text": [
      "145100 pages read\n"
     ]
    }
   ],
   "source": [
    "graph = WebGraph()\n",
    "graph.read()\n",
    "graph.read_ranks()\n",
    "graph.read_hashes()"
   ]
  },
  {
   "cell_type": "code",
   "execution_count": 8,
   "metadata": {
    "collapsed": true
   },
   "outputs": [],
   "source": [
    "class PageHash:\n",
    "    def __init__(self, index, h):\n",
    "        self.index = index\n",
    "        self.h = h\n",
    "        self.onebits = bin(h).count('1')\n",
    "        self.group = index\n",
    "\n",
    "hashes = [PageHash(index, page.simhash) for index, page in enumerate(graph.pages)]"
   ]
  },
  {
   "cell_type": "code",
   "execution_count": 9,
   "metadata": {
    "collapsed": true
   },
   "outputs": [],
   "source": [
    "hashes.sort(key=lambda x: x.onebits)"
   ]
  },
  {
   "cell_type": "markdown",
   "metadata": {},
   "source": [
    "# Нахождение групп полудубликатов"
   ]
  },
  {
   "cell_type": "markdown",
   "metadata": {},
   "source": [
    "Единственная используемая оптимизация: Я упорядочил группы по возрастанию кол-ва ненулевых бит в хеше, сравнивал только те пары статей, у которых разница в этом значение меньше N=5, 10, 15\n",
    "\n",
    "Главный элементом в группе считается статья с наибольшим PageRank"
   ]
  },
  {
   "cell_type": "code",
   "execution_count": 19,
   "metadata": {
    "collapsed": true
   },
   "outputs": [],
   "source": [
    "def findgroups(hashes, difference, dists = None):\n",
    "    if dists is None:\n",
    "        dists = []\n",
    "    for pagehash in hashes:\n",
    "        pagehash.group = pagehash.index\n",
    "    left = 0\n",
    "    current = 0\n",
    "    for current in range(len(hashes)):\n",
    "        sys.stdout.write(\"\\rProcessing {0}\".format(current))\n",
    "        while hashes[left].onebits < hashes[current].onebits - difference:\n",
    "            left += 1\n",
    "        for i in range(left, current):\n",
    "            diff = bin(hashes[current].h ^ hashes[i].h).count('1')\n",
    "            if diff in dists:\n",
    "                dists[diff] += 1\n",
    "            else:\n",
    "                dists[diff] = 1\n",
    "            if (diff <= difference):\n",
    "                hashes[current].group = hashes[i].group\n",
    "                break\n",
    "    groups = dict()\n",
    "    for page_hash in hashes:\n",
    "        if page_hash.group in groups:\n",
    "            groups[page_hash.group].append(page_hash.index)\n",
    "        else:\n",
    "            groups[page_hash.group] = [page_hash.index]\n",
    "    return groups\n",
    "    "
   ]
  },
  {
   "cell_type": "markdown",
   "metadata": {},
   "source": [
    "## N = 5"
   ]
  },
  {
   "cell_type": "code",
   "execution_count": 11,
   "metadata": {
    "collapsed": false
   },
   "outputs": [],
   "source": [
    "dists = dict()\n",
    "groups = findgroups(hashes, 5, dists)"
   ]
  },
  {
   "cell_type": "markdown",
   "metadata": {},
   "source": [
    "### График размеров групп"
   ]
  },
  {
   "cell_type": "code",
   "execution_count": 13,
   "metadata": {
    "collapsed": false
   },
   "outputs": [
    {
     "name": "stdout",
     "output_type": "stream",
     "text": [
      "Group sizes hist diff=5\n"
     ]
    },
    {
     "data": {
      "image/png": "[encoded data removed]",
      "text/plain": [
       "<matplotlib.figure.Figure at 0x7fb3acc2d4a8>"
      ]
     },
     "metadata": {},
     "output_type": "display_data"
    }
   ],
   "source": [
    "group_sizes = [len(x) for x in groups.values()]\n",
    "print(\"Group sizes hist diff=5\")\n",
    "plt.figure(figsize=(16, 10))\n",
    "n, bins, patches = plt.hist(group_sizes, 200, facecolor='green', alpha=0.5)\n",
    "plt.yscale(\"log\", nonposy='clip')\n",
    "plt.show()"
   ]
  },
  {
   "cell_type": "markdown",
   "metadata": {},
   "source": [
    "### Top10 по размеру групп"
   ]
  },
  {
   "cell_type": "code",
   "execution_count": 15,
   "metadata": {
    "collapsed": false
   },
   "outputs": [
    {
     "name": "stdout",
     "output_type": "stream",
     "text": [
      "https://simple.wikipedia.org/wiki/M%C3%A9rignac,_Gironde 284\n",
      "https://simple.wikipedia.org/wiki/Navarrenx 284\n",
      "https://simple.wikipedia.org/wiki/Foreste 279\n",
      "https://simple.wikipedia.org/wiki/.eu 255\n",
      "https://simple.wikipedia.org/wiki/Saint-Omer 239\n",
      "https://simple.wikipedia.org/wiki/Romans,_Ain 172\n",
      "https://simple.wikipedia.org/wiki/Pope_John_XXII 138\n",
      "https://simple.wikipedia.org/wiki/Vezot 104\n",
      "https://simple.wikipedia.org/wiki/Boulogne,_Vend%C3%A9e 93\n",
      "https://simple.wikipedia.org/wiki/Th%C3%A9rouanne 88\n"
     ]
    }
   ],
   "source": [
    "grouplist = list(groups.items())\n",
    "grouplist.sort(key=lambda x: -len(x[1]))\n",
    "for group in grouplist[:10]:\n",
    "    main = max((graph.pages[page].pagerank, graph.pages[page].url) for page in group[1])[1]\n",
    "    print(main, len(group[1]))"
   ]
  },
  {
   "cell_type": "markdown",
   "metadata": {},
   "source": [
    "### Распределение расстояний между сравниваемыми статьями"
   ]
  },
  {
   "cell_type": "code",
   "execution_count": 17,
   "metadata": {
    "collapsed": false
   },
   "outputs": [
    {
     "data": {
      "image/png": "[encoded data removed]",
      "text/plain": [
       "<matplotlib.figure.Figure at 0x7fb3acc2d390>"
      ]
     },
     "metadata": {},
     "output_type": "display_data"
    }
   ],
   "source": [
    "xy = list(dists.items())\n",
    "X = [x for x, y in xy]\n",
    "Y = [y for x, y in xy]\n",
    "plt.bar(X, Y)\n",
    "plt.show()"
   ]
  },
  {
   "cell_type": "markdown",
   "metadata": {},
   "source": [
    "## N = 10"
   ]
  },
  {
   "cell_type": "code",
   "execution_count": 21,
   "metadata": {
    "collapsed": false
   },
   "outputs": [
    {
     "name": "stdout",
     "output_type": "stream",
     "text": [
      "Processing 145150"
     ]
    }
   ],
   "source": [
    "dists = dict()\n",
    "groups = findgroups(hashes, 10, dists)"
   ]
  },
  {
   "cell_type": "markdown",
   "metadata": {},
   "source": [
    "### График размеров групп"
   ]
  },
  {
   "cell_type": "code",
   "execution_count": 23,
   "metadata": {
    "collapsed": false
   },
   "outputs": [
    {
     "name": "stdout",
     "output_type": "stream",
     "text": [
      "Group sizes hist diff=10\n"
     ]
    },
    {
     "data": {
      "image/png": "[encoded data removed]",
      "text/plain": [
       "<matplotlib.figure.Figure at 0x7fb3a6910b00>"
      ]
     },
     "metadata": {},
     "output_type": "display_data"
    }
   ],
   "source": [
    "group_sizes = [len(x) for x in groups.values()]\n",
    "print(\"Group sizes hist diff=10\")\n",
    "plt.figure(figsize=(16, 10))\n",
    "n, bins, patches = plt.hist(group_sizes, 200, facecolor='green', alpha=0.5, range=(0,300))\n",
    "plt.yscale(\"log\", nonposy='clip')\n",
    "plt.show()"
   ]
  },
  {
   "cell_type": "markdown",
   "metadata": {},
   "source": [
    "### Top10 по размеру групп"
   ]
  },
  {
   "cell_type": "code",
   "execution_count": 24,
   "metadata": {
    "collapsed": false
   },
   "outputs": [
    {
     "name": "stdout",
     "output_type": "stream",
     "text": [
      "https://simple.wikipedia.org/wiki/Saint-Quentin,_Aisne 617\n",
      "https://simple.wikipedia.org/wiki/Cowboy 468\n",
      "https://simple.wikipedia.org/wiki/Navarrenx 444\n",
      "https://simple.wikipedia.org/wiki/Matlock,_Iowa 376\n",
      "https://simple.wikipedia.org/wiki/Le_Bouchaud 262\n",
      "https://simple.wikipedia.org/wiki/.eu 255\n",
      "https://simple.wikipedia.org/wiki/Romans,_Ain 233\n",
      "https://simple.wikipedia.org/wiki/Yzeure 222\n",
      "https://simple.wikipedia.org/wiki/Saint-Mal%C3%B4-du-Bois 217\n",
      "https://simple.wikipedia.org/wiki/Ch%C3%A2teau-Gontier 213\n"
     ]
    }
   ],
   "source": [
    "grouplist = list(groups.items())\n",
    "grouplist.sort(key=lambda x: -len(x[1]))\n",
    "for group in grouplist[:10]:\n",
    "    main = max((graph.pages[page].pagerank, graph.pages[page].url) for page in group[1])[1]\n",
    "    print(main, len(group[1]))"
   ]
  },
  {
   "cell_type": "markdown",
   "metadata": {},
   "source": [
    "### Распределение расстояний между сравниваемыми статьями"
   ]
  },
  {
   "cell_type": "code",
   "execution_count": 25,
   "metadata": {
    "collapsed": false
   },
   "outputs": [
    {
     "data": {
      "image/png": "[encoded data removed]",
      "text/plain": [
       "<matplotlib.figure.Figure at 0x7fb3a6ef50b8>"
      ]
     },
     "metadata": {},
     "output_type": "display_data"
    }
   ],
   "source": [
    "xy = list(dists.items())\n",
    "X = [x for x, y in xy]\n",
    "Y = [y for x, y in xy]\n",
    "plt.bar(X, Y)\n",
    "plt.show()"
   ]
  },
  {
   "cell_type": "markdown",
   "metadata": {},
   "source": [
    "## N = 15"
   ]
  },
  {
   "cell_type": "code",
   "execution_count": 27,
   "metadata": {
    "collapsed": false
   },
   "outputs": [
    {
     "name": "stdout",
     "output_type": "stream",
     "text": [
      "Processing 145150"
     ]
    }
   ],
   "source": [
    "dists = dict()\n",
    "groups = findgroups(hashes, 15, dists)"
   ]
  },
  {
   "cell_type": "markdown",
   "metadata": {},
   "source": [
    "### График размеров групп"
   ]
  },
  {
   "cell_type": "code",
   "execution_count": 28,
   "metadata": {
    "collapsed": false
   },
   "outputs": [
    {
     "name": "stdout",
     "output_type": "stream",
     "text": [
      "Group sizes hist diff=10\n"
     ]
    },
    {
     "data": {
      "image/png": "[encoded data removed]",
      "text/plain": [
       "<matplotlib.figure.Figure at 0x7fb3a7404048>"
      ]
     },
     "metadata": {},
     "output_type": "display_data"
    }
   ],
   "source": [
    "group_sizes = [len(x) for x in groups.values()]\n",
    "print(\"Group sizes hist diff=10\")\n",
    "plt.figure(figsize=(16, 10))\n",
    "n, bins, patches = plt.hist(group_sizes, 200, facecolor='green', alpha=0.5, range=(0,300))\n",
    "plt.yscale(\"log\", nonposy='clip')\n",
    "plt.show()"
   ]
  },
  {
   "cell_type": "markdown",
   "metadata": {},
   "source": [
    "### Top10 по размеру групп"
   ]
  },
  {
   "cell_type": "code",
   "execution_count": 29,
   "metadata": {
    "collapsed": false
   },
   "outputs": [
    {
     "name": "stdout",
     "output_type": "stream",
     "text": [
      "https://simple.wikipedia.org/wiki/Islam 1639\n",
      "https://simple.wikipedia.org/wiki/Similar 1508\n",
      "https://simple.wikipedia.org/wiki/Barack_Obama 968\n",
      "https://simple.wikipedia.org/wiki/Romance_languages 891\n",
      "https://simple.wikipedia.org/wiki/Programming_language 865\n",
      "https://simple.wikipedia.org/wiki/Racing 620\n",
      "https://simple.wikipedia.org/wiki/Railway 445\n",
      "https://simple.wikipedia.org/wiki/Pornography 435\n",
      "https://simple.wikipedia.org/wiki/Acronym 386\n",
      "https://simple.wikipedia.org/wiki/Television_network 383\n"
     ]
    }
   ],
   "source": [
    "grouplist = list(groups.items())\n",
    "grouplist.sort(key=lambda x: -len(x[1]))\n",
    "for group in grouplist[:10]:\n",
    "    main = max((graph.pages[page].pagerank, graph.pages[page].url) for page in group[1])[1]\n",
    "    print(main, len(group[1]))"
   ]
  },
  {
   "cell_type": "markdown",
   "metadata": {},
   "source": [
    "### Распределение расстояний между сравниваемыми статьями"
   ]
  },
  {
   "cell_type": "code",
   "execution_count": 30,
   "metadata": {
    "collapsed": false
   },
   "outputs": [
    {
     "data": {
      "image/png": "[encoded data removed]",
      "text/plain": [
       "<matplotlib.figure.Figure at 0x7fb3ab06a6d8>"
      ]
     },
     "metadata": {},
     "output_type": "display_data"
    }
   ],
   "source": [
    "xy = list(dists.items())\n",
    "X = [x for x, y in xy]\n",
    "Y = [y for x, y in xy]\n",
    "plt.bar(X, Y)\n",
    "plt.show()"
   ]
  },
  {
   "cell_type": "markdown",
   "metadata": {},
   "source": [
    "## Вывод"
   ]
  },
  {
   "cell_type": "markdown",
   "metadata": {},
   "source": [
    "Оказалось, что на стадии обхода Википедии, для некоторых страниц не был обнаружен редирект. Поэтому в коллекции присутствуют полные дубли. Из них собственно и состоят группы при N = 5. Также статьи имеющие много общих слов попадают в одну группы, но таких давольно мало.\n",
    "\n",
    "При N = 10, статьи сильно пересекающиеся по набору слов , начинают попадать в одну группу. Данное значение можно использовать для поиска неточных дубликатов, хотя некоторые образовавшиеся группы слишком велики, и включают в себя \"далекие\" статьи\n",
    "\n",
    "При N = 15, в группах часто начинают оказываться совсем не близкие статьи. Разрешать отличие в 20% сигнатуры, неприемлимо для поиска дубликатов."
   ]
  }
 ],
 "metadata": {
  "kernelspec": {
   "display_name": "Python 3",
   "language": "python",
   "name": "python3"
  },
  "language_info": {
   "codemirror_mode": {
    "name": "ipython",
    "version": 3
   },
   "file_extension": ".py",
   "mimetype": "text/x-python",
   "name": "python",
   "nbconvert_exporter": "python",
   "pygments_lexer": "ipython3",
   "version": "3.4.3"
  }
 },
 "nbformat": 4,
 "nbformat_minor": 0
}
